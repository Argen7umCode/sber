{
 "cells": [
  {
   "cell_type": "markdown",
   "metadata": {},
   "source": [
    "# Собеседование на вакансию стажер DataSciene в Сбер "
   ]
  },
  {
   "cell_type": "markdown",
   "metadata": {},
   "source": [
    "<img src=\"images/task.png\" />"
   ]
  },
  {
   "cell_type": "markdown",
   "metadata": {},
   "source": [
    "#### Первым делом на мой взгляд необходимо сначала спроектировать структуру базы данных, а потом делать запрос"
   ]
  },
  {
   "cell_type": "markdown",
   "metadata": {},
   "source": [
    "## 1. Структура базы данных"
   ]
  },
  {
   "cell_type": "markdown",
   "metadata": {},
   "source": [
    "<img src=\"images/database_structure.png\" />"
   ]
  },
  {
   "cell_type": "markdown",
   "metadata": {},
   "source": [
    "1. Таблица companies содержит в себе названия компаний\n",
    "2. Таблица products содержит в себе идентификационный номер компании и название продукта \n",
    "3. Таблица dates содержит в себе product_id, отвечающий за обозначение пренадлежность строки к  какому-то продукту, год и месяц\n",
    "4. Таблицы limit и fact похожи по структуре: указание номера даты и значение на момент этой даты"
   ]
  },
  {
   "cell_type": "markdown",
   "metadata": {},
   "source": [
    "## 2. SQL запрос"
   ]
  },
  {
   "cell_type": "markdown",
   "metadata": {},
   "source": []
  },
  {
   "cell_type": "code",
   "execution_count": 2,
   "metadata": {},
   "outputs": [
    {
     "name": "stdout",
     "output_type": "stream",
     "text": [
      "Defaulting to user installation because normal site-packages is not writeable\n",
      "Requirement already satisfied: pysqlite-binary==0.5.1.3380300 in /home/argen7um/.local/lib/python3.10/site-packages (from -r requirements.txt (line 1)) (0.5.1.3380300)\n",
      "\n",
      "\u001b[1m[\u001b[0m\u001b[34;49mnotice\u001b[0m\u001b[1;39;49m]\u001b[0m\u001b[39;49m A new release of pip available: \u001b[0m\u001b[31;49m22.2.2\u001b[0m\u001b[39;49m -> \u001b[0m\u001b[32;49m22.3.1\u001b[0m\n",
      "\u001b[1m[\u001b[0m\u001b[34;49mnotice\u001b[0m\u001b[1;39;49m]\u001b[0m\u001b[39;49m To update, run: \u001b[0m\u001b[32;49mpip install --upgrade pip\u001b[0m\n"
     ]
    }
   ],
   "source": [
    "! pip install -r requirements.txt"
   ]
  },
  {
   "cell_type": "code",
   "execution_count": 28,
   "metadata": {},
   "outputs": [],
   "source": [
    "import sqlite3"
   ]
  },
  {
   "cell_type": "code",
   "execution_count": 59,
   "metadata": {},
   "outputs": [],
   "source": [
    "def getLimitAndFactAtTheDate(company, product, year):\n",
    "    with sqlite3.connect('database/data') as connection:\n",
    "        cur = connection.cursor()\n",
    "        \n",
    "        request = cur.execute(f'''\n",
    "            SELECT f.score as \"fact\", l.score as \"limit\" FROM facts f \n",
    "            INNER JOIN limits l ON f.date_id = l.date_id \n",
    "            WHERE f.date_id IN (SELECT date_id FROM dates \n",
    "                WHERE year = {year}\n",
    "                    AND product_id = (SELECT product_id FROM products\n",
    "                        WHERE name = \"{product}\" AND \n",
    "                        company_id = (SELECT company_id FROM companies WHERE name = \"{company}\")) \n",
    "                        ORDER BY date_id DESC)\n",
    "        ''').fetchall()\n",
    "        fact = [row[0] for row in request]\n",
    "        limit = [row[1] for row in request]\n",
    "        return fact, limit\n",
    "\n"
   ]
  },
  {
   "cell_type": "code",
   "execution_count": 60,
   "metadata": {},
   "outputs": [
    {
     "data": {
      "text/plain": [
       "([8302, 7786, 2296, 6136, 8160, 327, 9295, 3211, 9498, 215, 8625, 3958],\n",
       " [1729, 6920, 8431, 6725, 8042, 7668, 1857, 856, 3040, 4705, 9327, 7890])"
      ]
     },
     "execution_count": 60,
     "metadata": {},
     "output_type": "execute_result"
    }
   ],
   "source": [
    "getLimitAndFactAtTheDate('МБК', 'траст', 2022)"
   ]
  }
 ],
 "metadata": {
  "kernelspec": {
   "display_name": "Python 3.10.6 64-bit",
   "language": "python",
   "name": "python3"
  },
  "language_info": {
   "codemirror_mode": {
    "name": "ipython",
    "version": 3
   },
   "file_extension": ".py",
   "mimetype": "text/x-python",
   "name": "python",
   "nbconvert_exporter": "python",
   "pygments_lexer": "ipython3",
   "version": "3.10.6"
  },
  "orig_nbformat": 4,
  "vscode": {
   "interpreter": {
    "hash": "916dbcbb3f70747c44a77c7bcd40155683ae19c65e1c03b4aa3499c5328201f1"
   }
  }
 },
 "nbformat": 4,
 "nbformat_minor": 2
}
